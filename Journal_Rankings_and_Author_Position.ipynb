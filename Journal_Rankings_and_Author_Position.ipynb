{
  "nbformat": 4,
  "nbformat_minor": 0,
  "metadata": {
    "kernelspec": {
      "display_name": "Python 3",
      "language": "python",
      "name": "python3"
    },
    "language_info": {
      "codemirror_mode": {
        "name": "ipython",
        "version": 3
      },
      "file_extension": ".py",
      "mimetype": "text/x-python",
      "name": "python",
      "nbconvert_exporter": "python",
      "pygments_lexer": "ipython3",
      "version": "3.8.3"
    },
    "colab": {
      "name": "Journal_Rankings_and_Author_Position.ipynb",
      "provenance": [],
      "collapsed_sections": [],
      "include_colab_link": true
    }
  },
  "cells": [
    {
      "cell_type": "markdown",
      "metadata": {
        "id": "view-in-github",
        "colab_type": "text"
      },
      "source": [
        "<a href=\"https://colab.research.google.com/github/aida-wofford/Servicio_IAUNAM/blob/main/Journal_Rankings_and_Author_Position.ipynb\" target=\"_parent\"><img src=\"https://colab.research.google.com/assets/colab-badge.svg\" alt=\"Open In Colab\"/></a>"
      ]
    },
    {
      "cell_type": "code",
      "metadata": {
        "id": "jZH0ogsiIFy7"
      },
      "source": [
        "__author__ = 'Aida Wofford <awofford@astro.unam.mx>, Timothy Wofford <wofford.timothy@gmail.com>'\n",
        "__version__ = '20210623' # fecha de creación\n",
        "__datasets__ = ['ADS','SRJ']  # datos usados en este notebook\n",
        "__keywords__ = ['ADS', 'SRJ', 'IA UNAM', 'Informe Anual'], # palabras clave relevantes a este notebook"
      ],
      "execution_count": 1,
      "outputs": []
    },
    {
      "cell_type": "markdown",
      "metadata": {
        "id": "AoMoJhT3IFzA"
      },
      "source": [
        "# Instructions"
      ]
    },
    {
      "cell_type": "markdown",
      "metadata": {
        "id": "9JibSXjUIFzB"
      },
      "source": [
        "## Step 1: Get the API Token for ADS"
      ]
    },
    {
      "cell_type": "markdown",
      "metadata": {
        "id": "y5ClVgX-IFzC"
      },
      "source": [
        "* Register an account on the ADS website if you don't have one.\n",
        "* Login to the ADS website: https://ui.adsabs.harvard.edu/user/account/login\n",
        "* In the upper-right corner, go to Account > Settings\n",
        "* In the left menu, go to API Token\n",
        "* Generate a new key\n",
        "* Save the key as a string in the <a href=\"#Environment-setup-and-Input-parameters\">Environment setup</a> section below."
      ]
    },
    {
      "cell_type": "markdown",
      "metadata": {
        "id": "cmKlGO1DIFzD"
      },
      "source": [
        "## Step 2: Download journal rankings"
      ]
    },
    {
      "cell_type": "markdown",
      "metadata": {
        "id": "sfUq480MIFzE"
      },
      "source": [
        "* To get the journal ranking data go to: https://www.scimagojr.com/journalrank.php?category=3103&openaccess=false\n",
        "* Download the data by clicking onto the \"Download data\" button on the right side, just above the list.\n",
        "  * Although the file is saved as a csv, I had to open it in Numbers and export it to csv in order for pandas to import it correctly into python.\n",
        "  * I also had to make sure the filename did not include spaces.\n",
        "* Save the filename in the variable <code>journal_rankings_file</code> in the <a href=\"#Input-Parameters\">Input Parameters</a> section below.\n",
        "\n",
        "The code below assumes that the journal title is under the 'Title' column and that the ranking is under the 'SJR Quartile' column."
      ]
    },
    {
      "cell_type": "markdown",
      "metadata": {
        "id": "VsURoK7qIFzF"
      },
      "source": [
        "## Step 3: Get lists of author names"
      ]
    },
    {
      "cell_type": "markdown",
      "metadata": {
        "id": "uV3cPuE_IFzG"
      },
      "source": [
        "* We will ask people to contribute to a google spreadsheet where they will enter the list of exact names that they used in publications this year. \n",
        "\n",
        "* The first name in the list provided by the author should be complete to avoid including different authors who share the same initials.\n",
        "\n",
        "Example:\n",
        "<pre><code>authors=[\n",
        "    [\"Kirichenko, Aida Yu.\", \"Kirichenko, A.\"],\n",
        "    [\"Wofford, Aida\", \"Wofford, A.\"]\n",
        "]</code></pre>\n"
      ]
    },
    {
      "cell_type": "markdown",
      "metadata": {
        "id": "4DbWlK9rIFzG"
      },
      "source": [
        "# Environment setup and Input parameters"
      ]
    },
    {
      "cell_type": "code",
      "metadata": {
        "id": "miF05NSgIFzI"
      },
      "source": [
        "# If you don't already have the ADS API module installed, uncomment the next line.\n",
        "\n",
        "#!pip install ads\n",
        "\n",
        "import os\n",
        "import ads\n",
        "import pandas as pd\n",
        "\n",
        "# this is your personal API Token from ADS \n",
        "os.environ['ADS_DEV_KEY'] = ''#'paste your key here'\n",
        "\n",
        "# file containing journal ranking data\n",
        "journal_rankings_file='https://raw.githubusercontent.com/aida-wofford/Servicio_IAUNAM/main/scimagojr2020SubjectCategory-AstronomyandAstrophysics.csv'\n",
        "\n",
        "# Each author should provide a list of names as they appear in publications.\n",
        "# The first name in the list provided by the author should be complete\n",
        "# to avoid including different authors who share the same initials.\n",
        "authors=[\n",
        "    [\"Kirichenko, Aida Yu.\", \"Kirichenko, A.\"],\n",
        "    [\"Wofford, Aida\", \"Wofford, A.\"]\n",
        "]\n"
      ],
      "execution_count": 9,
      "outputs": []
    },
    {
      "cell_type": "markdown",
      "metadata": {
        "id": "KdVpnNiiIFzK"
      },
      "source": [
        "# Program"
      ]
    },
    {
      "cell_type": "markdown",
      "metadata": {
        "id": "6YH3EcL_IFzL"
      },
      "source": [
        "You shouldn't have to edit anything in this section."
      ]
    },
    {
      "cell_type": "code",
      "metadata": {
        "scrolled": true,
        "id": "Vwo6VIQpIFzL"
      },
      "source": [
        "def verificacion_de_produccion(author):\n",
        "    # load the journal ranking data\n",
        "    journal_ranking = pd.read_csv(journal_rankings_file)\n",
        "\n",
        "    # query the ADS database for the author's bibliographic data\n",
        "    papers = list(ads.SearchQuery(author=author[0], year=\"2021\", property='refereed'))\n",
        "\n",
        "    # Some journal titles mistakenly begin with \"The \". Remove the offending word.\n",
        "    # Verify that the author is in the author list\n",
        "    # and whether it is in the top10authors list\n",
        "    # and whether it is in the top2authors list\n",
        "    author_data = [[\n",
        "        paper.pub.replace('The ', ''),\n",
        "        any(name in author for name in paper.author),\n",
        "        any(name in author for name in paper.author[0:10]),\n",
        "        any(name in author for name in paper.author[0:2])\n",
        "        ] for paper in papers]\n",
        "    \n",
        "    # look up the journal ranking for each publication; keep other columns\n",
        "    author_data = [ [journal_ranking.loc[journal_ranking['Title']== publication[0] ]['SJR Quartile'].iloc[0], publication[0], publication[1], publication[2], publication[3]] for publication in author_data]\n",
        "    \n",
        "    # convert data to dataframe for further manipulations\n",
        "    output = pd.DataFrame(author_data,columns=['Ranking','Journal','Author','Top10','Top2'])\n",
        "    return [author, output, papers]"
      ],
      "execution_count": 10,
      "outputs": []
    },
    {
      "cell_type": "markdown",
      "metadata": {
        "id": "QnHkZrB9IFzL"
      },
      "source": [
        "# Output"
      ]
    },
    {
      "cell_type": "code",
      "metadata": {
        "colab": {
          "base_uri": "https://localhost:8080/"
        },
        "id": "00mpceeSIFzL",
        "outputId": "085f9d73-1656-4777-904a-e6789b9342d3"
      },
      "source": [
        "results = [verificacion_de_produccion(author) for author in authors]"
      ],
      "execution_count": 11,
      "outputs": [
        {
          "output_type": "stream",
          "text": [
            "/usr/local/lib/python3.7/dist-packages/ads/utils.py:31: UserWarning: You are lazy loading attributes via 'pub', and so are making multiple calls to the API. This will impact your overall rate limits.\n",
            "  UserWarning,\n"
          ],
          "name": "stderr"
        }
      ]
    },
    {
      "cell_type": "code",
      "metadata": {
        "id": "D3yIO90QIFzO",
        "outputId": "8a6a7c28-8a93-4b90-fdbc-60e843a40215",
        "colab": {
          "base_uri": "https://localhost:8080/",
          "height": 386
        }
      },
      "source": [
        "from IPython.display import display, HTML\n",
        "for result in results:\n",
        "    print(result[0])\n",
        "    display(HTML(result[1].to_html()))\n",
        "    print('----------------------------------------------------------------\\n\\n')"
      ],
      "execution_count": 12,
      "outputs": [
        {
          "output_type": "stream",
          "text": [
            "['Kirichenko, Aida Yu.', 'Kirichenko, A.']\n"
          ],
          "name": "stdout"
        },
        {
          "output_type": "display_data",
          "data": {
            "text/html": [
              "<table border=\"1\" class=\"dataframe\">\n",
              "  <thead>\n",
              "    <tr style=\"text-align: right;\">\n",
              "      <th></th>\n",
              "      <th>Ranking</th>\n",
              "      <th>Journal</th>\n",
              "      <th>Author</th>\n",
              "      <th>Top10</th>\n",
              "      <th>Top2</th>\n",
              "    </tr>\n",
              "  </thead>\n",
              "  <tbody>\n",
              "    <tr>\n",
              "      <th>0</th>\n",
              "      <td>Q1</td>\n",
              "      <td>Astrophysical Journal</td>\n",
              "      <td>True</td>\n",
              "      <td>True</td>\n",
              "      <td>False</td>\n",
              "    </tr>\n",
              "    <tr>\n",
              "      <th>1</th>\n",
              "      <td>Q1</td>\n",
              "      <td>Monthly Notices of the Royal Astronomical Society</td>\n",
              "      <td>True</td>\n",
              "      <td>True</td>\n",
              "      <td>False</td>\n",
              "    </tr>\n",
              "  </tbody>\n",
              "</table>"
            ],
            "text/plain": [
              "<IPython.core.display.HTML object>"
            ]
          },
          "metadata": {
            "tags": []
          }
        },
        {
          "output_type": "stream",
          "text": [
            "----------------------------------------------------------------\n",
            "\n",
            "\n",
            "['Wofford, Aida', 'Wofford, A.']\n"
          ],
          "name": "stdout"
        },
        {
          "output_type": "display_data",
          "data": {
            "text/html": [
              "<table border=\"1\" class=\"dataframe\">\n",
              "  <thead>\n",
              "    <tr style=\"text-align: right;\">\n",
              "      <th></th>\n",
              "      <th>Ranking</th>\n",
              "      <th>Journal</th>\n",
              "      <th>Author</th>\n",
              "      <th>Top10</th>\n",
              "      <th>Top2</th>\n",
              "    </tr>\n",
              "  </thead>\n",
              "  <tbody>\n",
              "    <tr>\n",
              "      <th>0</th>\n",
              "      <td>Q1</td>\n",
              "      <td>Monthly Notices of the Royal Astronomical Society</td>\n",
              "      <td>True</td>\n",
              "      <td>True</td>\n",
              "      <td>True</td>\n",
              "    </tr>\n",
              "    <tr>\n",
              "      <th>1</th>\n",
              "      <td>Q1</td>\n",
              "      <td>Astronomy and Astrophysics</td>\n",
              "      <td>True</td>\n",
              "      <td>False</td>\n",
              "      <td>False</td>\n",
              "    </tr>\n",
              "    <tr>\n",
              "      <th>2</th>\n",
              "      <td>Q1</td>\n",
              "      <td>Astrophysical Journal</td>\n",
              "      <td>True</td>\n",
              "      <td>False</td>\n",
              "      <td>False</td>\n",
              "    </tr>\n",
              "  </tbody>\n",
              "</table>"
            ],
            "text/plain": [
              "<IPython.core.display.HTML object>"
            ]
          },
          "metadata": {
            "tags": []
          }
        },
        {
          "output_type": "stream",
          "text": [
            "----------------------------------------------------------------\n",
            "\n",
            "\n"
          ],
          "name": "stdout"
        }
      ]
    },
    {
      "cell_type": "code",
      "metadata": {
        "id": "mxqiKUGDIFzO"
      },
      "source": [
        ""
      ],
      "execution_count": null,
      "outputs": []
    }
  ]
}